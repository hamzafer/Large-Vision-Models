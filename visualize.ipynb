{
 "cells": [
  {
   "cell_type": "markdown",
   "metadata": {},
   "source": []
  },
  {
   "cell_type": "code",
   "execution_count": 3,
   "metadata": {},
   "outputs": [
    {
     "data": {
      "text/plain": [
       "'LVM_project_flowchart.png'"
      ]
     },
     "execution_count": 3,
     "metadata": {},
     "output_type": "execute_result"
    },
    {
     "name": "stderr",
     "output_type": "stream",
     "text": [
      "/snap/core20/current/lib/x86_64-linux-gnu/libstdc++.so.6: version `GLIBCXX_3.4.29' not found (required by /lib/x86_64-linux-gnu/libproxy.so.1)\n",
      "Failed to load module: /home/hamzaz/snap/code/common/.cache/gio-modules/libgiolibproxy.so\n",
      "/usr/bin/eog: symbol lookup error: /snap/core20/current/lib/x86_64-linux-gnu/libpthread.so.0: undefined symbol: __libc_pthread_init, version GLIBC_PRIVATE\n"
     ]
    }
   ],
   "source": [
    "from graphviz import Digraph\n",
    "\n",
    "# Create a Digraph object\n",
    "flowchart = Digraph(format='png')\n",
    "\n",
    "# Define the nodes\n",
    "flowchart.node('Start', 'Start', shape='ellipse')\n",
    "flowchart.node('A', 'Literature review on\\nthe evolution of LVMs', shape='box')\n",
    "flowchart.node('B', 'State of the Art study', shape='box')\n",
    "flowchart.node('C', 'Learn about LVM architectures\\n(ViT, ViViT, Auto-encoders)', shape='box')\n",
    "flowchart.node('D', 'Generalize LVMs for various tasks\\n(Segmentation, Object Detection, Captioning)', shape='box')\n",
    "flowchart.node('E', 'Experiment on video datasets\\n(UCF101, Kinetics 400)', shape='box')\n",
    "flowchart.node('F', 'Report findings, experiments, and results', shape='box')\n",
    "flowchart.node('End', 'End', shape='ellipse')\n",
    "\n",
    "# Define the connections between nodes\n",
    "flowchart.edge('Start', 'A')\n",
    "flowchart.edge('A', 'B')\n",
    "flowchart.edge('B', 'C')\n",
    "flowchart.edge('C', 'D')\n",
    "flowchart.edge('D', 'E')\n",
    "flowchart.edge('E', 'F')\n",
    "flowchart.edge('F', 'End')\n",
    "\n",
    "# Render the flowchart\n",
    "flowchart.render('LVM_project_flowchart', view=True)\n"
   ]
  }
 ],
 "metadata": {
  "kernelspec": {
   "display_name": "apw",
   "language": "python",
   "name": "python3"
  },
  "language_info": {
   "codemirror_mode": {
    "name": "ipython",
    "version": 3
   },
   "file_extension": ".py",
   "mimetype": "text/x-python",
   "name": "python",
   "nbconvert_exporter": "python",
   "pygments_lexer": "ipython3",
   "version": "3.11.8"
  }
 },
 "nbformat": 4,
 "nbformat_minor": 2
}
